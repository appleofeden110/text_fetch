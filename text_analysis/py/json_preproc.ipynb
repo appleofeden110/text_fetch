{
 "cells": [
  {
   "cell_type": "code",
   "execution_count": 4,
   "id": "ed7e87c0",
   "metadata": {},
   "outputs": [],
   "source": [
    "import json\n",
    "\n",
    "import pandas as pd\n",
    "\n",
    "import re\n",
    "\n",
    "import os"
   ]
  },
  {
   "cell_type": "code",
   "execution_count": 10,
   "id": "f51bc2c7",
   "metadata": {},
   "outputs": [],
   "source": [
    "filename = 'liganet'\n",
    "\n",
    "with open(f'{os.getcwd()}/json_files/{filename}.json', 'r') as myfile:\n",
    "    obj = json.loads(myfile.read())\n",
    "    \n",
    "# obj = json.loads(data)"
   ]
  },
  {
   "cell_type": "code",
   "execution_count": 11,
   "id": "71bb598b",
   "metadata": {},
   "outputs": [],
   "source": [
    "texts = ''\n",
    "\n",
    "for i in range(0, len(obj['messages'])):\n",
    "    if 'text' in obj['messages'][i].keys():\n",
    "        message = obj['messages'][i]['text']\n",
    "        if isinstance(message, list):\n",
    "            for i in range(0, len(message)):\n",
    "                if isinstance(message[i], dict):\n",
    "                    texts += '\\n'+ message[i]['text']\n",
    "                else:\n",
    "                    texts += '\\n' + message[i]\n",
    "        else:\n",
    "            texts += '\\n' + message"
   ]
  },
  {
   "cell_type": "code",
   "execution_count": 12,
   "id": "1bbcef8b",
   "metadata": {},
   "outputs": [],
   "source": [
    "texts = texts.replace('.', ' ').replace('\\n', ' ').replace(',', ' ')\n",
    "\n",
    "texts = re.sub(r'\\W+', ' ', texts)\n",
    "\n",
    "texts = re.sub('\\s+', ' ', texts)\n",
    "\n",
    "words = texts.split(' ')"
   ]
  },
  {
   "cell_type": "code",
   "execution_count": 13,
   "id": "672343d0",
   "metadata": {},
   "outputs": [],
   "source": [
    "with open(f'{os.getcwd()}/txt_files/{filename}.txt','w') as file:\n",
    "    file.write(texts.lower())"
   ]
  }
 ],
 "metadata": {
  "kernelspec": {
   "display_name": "Python 3 (ipykernel)",
   "language": "python",
   "name": "python3"
  },
  "language_info": {
   "codemirror_mode": {
    "name": "ipython",
    "version": 3
   },
   "file_extension": ".py",
   "mimetype": "text/x-python",
   "name": "python",
   "nbconvert_exporter": "python",
   "pygments_lexer": "ipython3",
   "version": "3.9.7"
  }
 },
 "nbformat": 4,
 "nbformat_minor": 5
}
