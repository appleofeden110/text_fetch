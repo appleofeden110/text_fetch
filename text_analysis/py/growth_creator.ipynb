{
 "cells": [
  {
   "cell_type": "code",
   "execution_count": 1,
   "id": "cb741dd8",
   "metadata": {},
   "outputs": [],
   "source": [
    "import os\n",
    "\n",
    "import pandas as pd"
   ]
  },
  {
   "cell_type": "code",
   "execution_count": null,
   "id": "25dda30c",
   "metadata": {},
   "outputs": [],
   "source": [
    "def get_vocab(text):\n",
    "    \n",
    "    unique = {}\n",
    "    for word in text:\n",
    "        if word in unique:\n",
    "            unique[word] += 1\n",
    "        else:\n",
    "            unique[word] = 1\n",
    "            \n",
    "    return unique\n",
    "\n",
    "def number_unique_words(vocab):\n",
    "    return len(vocab)"
   ]
  },
  {
   "cell_type": "code",
   "execution_count": 5,
   "id": "213d50d4",
   "metadata": {},
   "outputs": [],
   "source": [
    "root = os.getcwd()\n",
    "\n",
    "filename = 'grunt'\n",
    "\n",
    "with open(f'{root}/txt_files/{filename}.txt', 'r') as file:\n",
    "    text = file.read()"
   ]
  },
  {
   "cell_type": "code",
   "execution_count": 8,
   "id": "ee68946d",
   "metadata": {},
   "outputs": [],
   "source": [
    "text = text.split(' ')"
   ]
  },
  {
   "cell_type": "code",
   "execution_count": 9,
   "id": "f79fbd26",
   "metadata": {},
   "outputs": [],
   "source": [
    "lengths = []\n",
    "vocabs = []\n",
    "\n",
    "step = 100\n",
    "\n",
    "for i in range(100, len(texts), step):\n",
    "    lengths.append(i)\n",
    "    #start = time.perf_counter()\n",
    "    #subtext = texts[:i]\n",
    "    #subtext_time = time.perf_counter()\n",
    "    \n",
    "#     print(f'subtext time {subtext_time - start}')\n",
    "    \n",
    "    #lengths.append(len(subtext))\n",
    "#     length_time = time.perf_counter()      \n",
    "    \n",
    "#     print(f'length append time {length_time - subtext_time}')\n",
    "    \n",
    "    vocabs.append(len(set(text[:i])))\n",
    "#     vocab_time = time.perf_counter()\n",
    "    \n",
    "#     print(f'vocab append time {vocab_time - length_time}')\n",
    "    \n",
    "#     step += 50"
   ]
  },
  {
   "cell_type": "code",
   "execution_count": 11,
   "id": "ffcf394d",
   "metadata": {},
   "outputs": [],
   "source": [
    "growth = pd.DataFrame({'length': lengths, 'vocab': vocabs})\n",
    "\n",
    "growth.to_csv(f'{os.getcwd()}/vocab_growth/{filename}.csv', index=False)"
   ]
  }
 ],
 "metadata": {
  "kernelspec": {
   "display_name": "Python 3 (ipykernel)",
   "language": "python",
   "name": "python3"
  },
  "language_info": {
   "codemirror_mode": {
    "name": "ipython",
    "version": 3
   },
   "file_extension": ".py",
   "mimetype": "text/x-python",
   "name": "python",
   "nbconvert_exporter": "python",
   "pygments_lexer": "ipython3",
   "version": "3.9.7"
  }
 },
 "nbformat": 4,
 "nbformat_minor": 5
}
